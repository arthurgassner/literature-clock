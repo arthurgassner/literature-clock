{
 "cells": [
  {
   "cell_type": "code",
   "execution_count": 67,
   "id": "18a0d433-a928-46f6-92b9-c2d1467d3e07",
   "metadata": {},
   "outputs": [],
   "source": [
    "from datetime import datetime\n",
    "import random\n",
    "import csv"
   ]
  },
  {
   "cell_type": "code",
   "execution_count": 70,
   "id": "f6d6155d-b8ed-47c2-82a9-6669bcf648be",
   "metadata": {},
   "outputs": [],
   "source": [
    "def randomly_select_quote_title_author() -> tuple[str, str, str]:\n",
    "\n",
    "    # Figure out the current time\n",
    "    now = datetime.now()\n",
    "    now_str = f\"{now.hour:02}:{now.minute:02}\"\n",
    "    print('Curr time:', now_str)\n",
    "    \n",
    "    # Load the file containing the relevant quotes\n",
    "    with open(f\"../data/quotes/{now_str}.csv\", newline='\\n') as f:\n",
    "        reader = csv.reader(f)\n",
    "        csv_rows = list(reader)\n",
    "\n",
    "    # Randomly select one row\n",
    "    selected_row_idx = random.randint(0, len(csv_rows)-1)\n",
    "    selected_csv_row = ''.join(csv_rows[selected_row_idx])   \n",
    "\n",
    "    _, quote, title, author = selected_csv_row.split('|')\n",
    "\n",
    "    # Fix endlines\n",
    "    quote = quote.replace('<br/>', '\\n')\n",
    "    \n",
    "    return quote, title, author"
   ]
  },
  {
   "cell_type": "code",
   "execution_count": 76,
   "id": "71e7d5ab-926e-4541-8848-5ab6a8a5d228",
   "metadata": {},
   "outputs": [
    {
     "name": "stdout",
     "output_type": "stream",
     "text": [
      "Curr time: 17:08\n",
      "\"Good evening Mrs. Scheindlin the man said before departing.\n",
      "\"\"Good evening Chris. Say hello to the wife for me.\"\"\n",
      "\"\"I sure will. Thanks. Bye he said waving to Elliot who returned the goodbye. It was <b>5:03</b> when Elliot rested the handset in its cradle.\"\n",
      "Comrades in Miami: A Novel\n",
      "José Latour\n"
     ]
    }
   ],
   "source": [
    "# Select quote\n",
    "quote, title, author = randomly_select_quote_title_author()\n",
    "\n",
    "print(quote)\n",
    "print(title)\n",
    "print(author)"
   ]
  },
  {
   "cell_type": "code",
   "execution_count": null,
   "id": "d35400b8-988e-4efd-9741-73cf20d61955",
   "metadata": {},
   "outputs": [],
   "source": []
  },
  {
   "cell_type": "code",
   "execution_count": null,
   "id": "b4474e68-9066-41a2-88b7-67a988146865",
   "metadata": {},
   "outputs": [],
   "source": []
  }
 ],
 "metadata": {
  "kernelspec": {
   "display_name": "Python 3 (ipykernel)",
   "language": "python",
   "name": "python3"
  },
  "language_info": {
   "codemirror_mode": {
    "name": "ipython",
    "version": 3
   },
   "file_extension": ".py",
   "mimetype": "text/x-python",
   "name": "python",
   "nbconvert_exporter": "python",
   "pygments_lexer": "ipython3",
   "version": "3.13.3"
  }
 },
 "nbformat": 4,
 "nbformat_minor": 5
}
