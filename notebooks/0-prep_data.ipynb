{
 "cells": [
  {
   "cell_type": "code",
   "execution_count": 10,
   "id": "57b8c7f0-6fef-4d03-b934-2bb3e85ffde3",
   "metadata": {},
   "outputs": [],
   "source": [
    "import pandas as pd"
   ]
  },
  {
   "cell_type": "code",
   "execution_count": 11,
   "id": "3381f9b4-486a-4888-be1e-b65b26e958c5",
   "metadata": {},
   "outputs": [
    {
     "data": {
      "text/html": [
       "<div>\n",
       "<style scoped>\n",
       "    .dataframe tbody tr th:only-of-type {\n",
       "        vertical-align: middle;\n",
       "    }\n",
       "\n",
       "    .dataframe tbody tr th {\n",
       "        vertical-align: top;\n",
       "    }\n",
       "\n",
       "    .dataframe thead th {\n",
       "        text-align: right;\n",
       "    }\n",
       "</style>\n",
       "<table border=\"1\" class=\"dataframe\">\n",
       "  <thead>\n",
       "    <tr style=\"text-align: right;\">\n",
       "      <th></th>\n",
       "      <th>time</th>\n",
       "      <th>time_str</th>\n",
       "      <th>quote</th>\n",
       "      <th>title</th>\n",
       "      <th>author</th>\n",
       "      <th>sfw</th>\n",
       "    </tr>\n",
       "  </thead>\n",
       "  <tbody>\n",
       "    <tr>\n",
       "      <th>0</th>\n",
       "      <td>00:00</td>\n",
       "      <td>midnight</td>\n",
       "      <td>While they were drinking at the fountain, chur...</td>\n",
       "      <td>The 101 Dalmatians</td>\n",
       "      <td>Dodie Smith</td>\n",
       "      <td>sfw</td>\n",
       "    </tr>\n",
       "    <tr>\n",
       "      <th>1</th>\n",
       "      <td>00:00</td>\n",
       "      <td>midnight</td>\n",
       "      <td>At midnight the entrances were thrown wide, an...</td>\n",
       "      <td>Ben-Hur</td>\n",
       "      <td>Lew Wallace</td>\n",
       "      <td>sfw</td>\n",
       "    </tr>\n",
       "  </tbody>\n",
       "</table>\n",
       "</div>"
      ],
      "text/plain": [
       "    time  time_str                                              quote  \\\n",
       "0  00:00  midnight  While they were drinking at the fountain, chur...   \n",
       "1  00:00  midnight  At midnight the entrances were thrown wide, an...   \n",
       "\n",
       "                title       author  sfw  \n",
       "0  The 101 Dalmatians  Dodie Smith  sfw  \n",
       "1             Ben-Hur  Lew Wallace  sfw  "
      ]
     },
     "execution_count": 11,
     "metadata": {},
     "output_type": "execute_result"
    }
   ],
   "source": [
    "df = pd.read_csv('data/litclock_annotated.csv', sep='|', header=None)\n",
    "df.columns = ['time', 'time_str', 'quote', 'title', 'author', 'sfw']\n",
    "df.head(2)"
   ]
  },
  {
   "cell_type": "code",
   "execution_count": 12,
   "id": "e8ac8709-1094-4460-9f57-95184ca647df",
   "metadata": {},
   "outputs": [
    {
     "data": {
      "text/html": [
       "<div>\n",
       "<style scoped>\n",
       "    .dataframe tbody tr th:only-of-type {\n",
       "        vertical-align: middle;\n",
       "    }\n",
       "\n",
       "    .dataframe tbody tr th {\n",
       "        vertical-align: top;\n",
       "    }\n",
       "\n",
       "    .dataframe thead th {\n",
       "        text-align: right;\n",
       "    }\n",
       "</style>\n",
       "<table border=\"1\" class=\"dataframe\">\n",
       "  <thead>\n",
       "    <tr style=\"text-align: right;\">\n",
       "      <th></th>\n",
       "      <th>time</th>\n",
       "      <th>quote</th>\n",
       "      <th>title</th>\n",
       "      <th>author</th>\n",
       "    </tr>\n",
       "  </thead>\n",
       "  <tbody>\n",
       "    <tr>\n",
       "      <th>0</th>\n",
       "      <td>00:00</td>\n",
       "      <td>While they were drinking at the fountain, chur...</td>\n",
       "      <td>The 101 Dalmatians</td>\n",
       "      <td>Dodie Smith</td>\n",
       "    </tr>\n",
       "    <tr>\n",
       "      <th>1</th>\n",
       "      <td>00:00</td>\n",
       "      <td>At midnight the entrances were thrown wide, an...</td>\n",
       "      <td>Ben-Hur</td>\n",
       "      <td>Lew Wallace</td>\n",
       "    </tr>\n",
       "  </tbody>\n",
       "</table>\n",
       "</div>"
      ],
      "text/plain": [
       "    time                                              quote  \\\n",
       "0  00:00  While they were drinking at the fountain, chur...   \n",
       "1  00:00  At midnight the entrances were thrown wide, an...   \n",
       "\n",
       "                title       author  \n",
       "0  The 101 Dalmatians  Dodie Smith  \n",
       "1             Ben-Hur  Lew Wallace  "
      ]
     },
     "execution_count": 12,
     "metadata": {},
     "output_type": "execute_result"
    }
   ],
   "source": [
    "df = df.drop(columns=['time_str', 'sfw'])\n",
    "df.head(2)"
   ]
  },
  {
   "cell_type": "code",
   "execution_count": 13,
   "id": "1004abf3-de41-4624-8985-9bffe07157fa",
   "metadata": {},
   "outputs": [],
   "source": [
    "# I want to avoid using pandas, as it's overkill for our task at hand\n",
    "# Hence, I will split the df by groups, one .csv per group\n",
    "time_dfgb = df.groupby('time')\n"
   ]
  },
  {
   "cell_type": "code",
   "execution_count": 23,
   "id": "81ecaa05-a46d-476d-8745-905a6c39f3d9",
   "metadata": {},
   "outputs": [],
   "source": [
    "for group, group_df in time_dfgb:\n",
    "    group_df.to_csv(f\"data/quotes/{group}.csv\", index=False, sep='|', header=False)"
   ]
  },
  {
   "cell_type": "code",
   "execution_count": 27,
   "id": "a184a7fe-835a-424f-a88b-bf19f8dfba9f",
   "metadata": {},
   "outputs": [
    {
     "data": {
      "text/plain": [
       "'1.17 pm An arrest is made at Bristol Airport and police confirm that they’ve detained a person in connection with the investigation.'"
      ]
     },
     "execution_count": 27,
     "metadata": {},
     "output_type": "execute_result"
    }
   ],
   "source": [
    "time_dfgb.get_group('13:17').quote.iloc[0]"
   ]
  },
  {
   "cell_type": "code",
   "execution_count": null,
   "id": "dfb4a020-10bd-4257-932d-579f9266f97c",
   "metadata": {},
   "outputs": [],
   "source": []
  }
 ],
 "metadata": {
  "kernelspec": {
   "display_name": "Python 3 (ipykernel)",
   "language": "python",
   "name": "python3"
  },
  "language_info": {
   "codemirror_mode": {
    "name": "ipython",
    "version": 3
   },
   "file_extension": ".py",
   "mimetype": "text/x-python",
   "name": "python",
   "nbconvert_exporter": "python",
   "pygments_lexer": "ipython3",
   "version": "3.13.3"
  }
 },
 "nbformat": 4,
 "nbformat_minor": 5
}
